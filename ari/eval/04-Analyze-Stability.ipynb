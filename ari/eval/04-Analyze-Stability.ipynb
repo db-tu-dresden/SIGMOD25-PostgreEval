{
 "cells": [
  {
   "cell_type": "markdown",
   "id": "77ecbdeb",
   "metadata": {},
   "source": [
    "# Experiment 04: Stability of the Statistics Catalog\n",
    "\n",
    "Process this notebook like so to generate the PDF output:\n",
    "\n",
    "```bash\n",
    "jupyter execute --inplace 04-Analyze-Stability.ipynb\n",
    "jupyter nbconvert --to pdf --TagRemovePreprocessor.remove_cell_tags='{\"hide\"}' 04-Analyze-Stability.ipynb\n",
    "```\n",
    "\n",
    "# Internals\n",
    "\n",
    "The cells in this section can be ignored in the PDF output. They perform the technical aspects of the data analysis.\n",
    "Please take a look at the following sections to see the actual outputs."
   ]
  },
  {
   "cell_type": "code",
   "execution_count": null,
   "id": "0dede486",
   "metadata": {
    "tags": [
     "hide"
    ]
   },
   "outputs": [],
   "source": [
    "import json\n",
    "from pathlib import Path\n",
    "from typing import Optional\n",
    "\n",
    "import matplotlib.pyplot as plt\n",
    "import numpy as np\n",
    "import pandas as pd\n",
    "import seaborn as sns\n",
    "from matplotlib import figure, ticker\n",
    "\n",
    "from postbound.db import postgres\n",
    "from postbound.experiments import workloads"
   ]
  },
  {
   "cell_type": "code",
   "execution_count": null,
   "id": "50b0c2de",
   "metadata": {
    "tags": [
     "hide"
    ]
   },
   "outputs": [],
   "source": [
    "results_base = Path(\"/ari/results/experiment-05-analyze-stability/\")\n",
    "out_dir = Path(\"/ari/results/eval/experiment-05-analyze-stability/\")\n",
    "out_dir.mkdir(parents=True, exist_ok=True)\n",
    "workloads.workloads_base_dir = \"/ari/postbound/workloads\"\n",
    "plt.rcParams[\"figure.figsize\"] = (10, 4)\n",
    "plt.rcParams[\"pdf.fonttype\"] = 42\n",
    "plt.rcParams[\"ps.fonttype\"] = 42\n",
    "sns.set_style(\"whitegrid\")\n",
    "sns.set_context(\"talk\")"
   ]
  },
  {
   "cell_type": "code",
   "execution_count": null,
   "id": "0849f365",
   "metadata": {
    "tags": [
     "hide"
    ]
   },
   "outputs": [],
   "source": [
    "def explain_plan(explain_data: str) -> postgres.PostgresExplainPlan | None:\n",
    "    json_data = json.loads(explain_data)\n",
    "    if not json_data:\n",
    "        return None\n",
    "    pg_plan = postgres.PostgresExplainPlan(json_data)\n",
    "    return pg_plan\n",
    "\n",
    "\n",
    "def n_tables(label: str, *, workload: workloads.Workload) -> int:\n",
    "    query = workload[label]\n",
    "    return len(query.tables())\n",
    "\n",
    "\n",
    "def read_df(\n",
    "    workload: workloads.Workload[str], *, geqo_thresh: int = 12\n",
    ") -> Optional[pd.DataFrame]:\n",
    "    enumerators = [\"dynprog\", \"geqo\"]\n",
    "    results_dir = results_base / workload.name.lower()\n",
    "    result_df = pd.DataFrame()\n",
    "\n",
    "    for enum in enumerators:\n",
    "        data_file = (\n",
    "            results_dir / f\"pg-{workload.name.lower()}-analyze-stability_{enum}.csv\"\n",
    "        )\n",
    "        if not data_file.exists():\n",
    "            continue\n",
    "\n",
    "        current_df = pd.read_csv(data_file, converters={\"query_result\": explain_plan})\n",
    "        current_df[\"plan_hash\"] = current_df[\"query_result\"].map(hash)\n",
    "        current_df[\"geqo\"] = \"on\" if enum == \"geqo\" else \"off\"\n",
    "        current_df[\"triggers_geqo\"] = (\n",
    "            current_df[\"label\"].apply(n_tables, workload=workload) >= geqo_thresh\n",
    "        )\n",
    "\n",
    "        result_df = pd.concat([result_df, current_df], ignore_index=True)\n",
    "\n",
    "    if result_df.empty:\n",
    "        return None\n",
    "\n",
    "    result_df[\"label\"] = pd.Categorical(\n",
    "        result_df[\"label\"], categories=workload.labels(), ordered=True\n",
    "    )\n",
    "    return result_df\n",
    "\n",
    "\n",
    "def plans_per_query(df: pd.DataFrame | None) -> Optional[pd.DataFrame]:\n",
    "    if df is None:\n",
    "        return None\n",
    "\n",
    "    raw_ppq = df.groupby(\n",
    "        [\"label\", \"geqo\", \"triggers_geqo\"], as_index=False, observed=True\n",
    "    ).agg(\n",
    "        n_plans=pd.NamedAgg(column=\"plan_hash\", aggfunc=lambda plans: len(set(plans))),\n",
    "        min_rt=pd.NamedAgg(column=\"exec_time\", aggfunc=\"min\"),\n",
    "        max_rt=pd.NamedAgg(column=\"exec_time\", aggfunc=\"max\"),\n",
    "    )\n",
    "\n",
    "    ppq = (\n",
    "        raw_ppq.merge(\n",
    "            raw_ppq.query(\"geqo == 'on'\")[[\"label\", \"n_plans\"]],\n",
    "            on=\"label\",\n",
    "            how=\"left\",\n",
    "            suffixes=(\"\", \"_geqo\"),\n",
    "        )\n",
    "        .fillna({\"n_plans_geqo\": 1})\n",
    "        .assign(\n",
    "            n_plans=lambda df: np.where(\n",
    "                ~df[\"triggers_geqo\"],\n",
    "                np.max([df[\"n_plans\"], df[\"n_plans_geqo\"]], axis=0),\n",
    "                df[\"n_plans\"],\n",
    "            )\n",
    "        )\n",
    "        .drop(columns=\"n_plans_geqo\")\n",
    "        .fillna({\"n_plans\": 1})\n",
    "    )\n",
    "\n",
    "    return ppq\n",
    "\n",
    "\n",
    "def make_ppq_plot(\n",
    "    ppq: pd.DataFrame | None, *, workload: workloads.Workload\n",
    ") -> Optional[figure.Figure]:\n",
    "    if ppq is None:\n",
    "        return None\n",
    "\n",
    "    changing_plans = (\n",
    "        ppq.query(\"n_plans > 1\")\n",
    "        .pivot(columns=\"geqo\", index=\"label\", values=\"n_plans\")\n",
    "        .reset_index()\n",
    "        .fillna({\"off\": 1.0, \"on\": 1.0})\n",
    "        .assign(\n",
    "            on=lambda df: np.where(\n",
    "                df[\"label\"].apply(n_tables, workload=workload) >= 12, df[\"on\"], np.nan\n",
    "            )\n",
    "        )\n",
    "        .melt(id_vars=\"label\", var_name=\"geqo\", value_name=\"n_plans\")\n",
    "    )\n",
    "\n",
    "    g = sns.barplot(\n",
    "        changing_plans,\n",
    "        x=\"label\",\n",
    "        y=\"n_plans\",\n",
    "        hue=\"geqo\",\n",
    "        order=changing_plans[\"label\"].unique(),\n",
    "    )  # restrict to the labels that are actually present\n",
    "    g.tick_params(axis=\"x\", rotation=90)\n",
    "    g.yaxis.set_major_locator(ticker.MaxNLocator(integer=True))\n",
    "    g.set(xlabel=\"Query\", ylabel=\"Distinct plans\")\n",
    "    g.legend(title=\"GEQO\")\n",
    "\n",
    "    out_file = out_dir / f\"{workload.name.lower()}-plan-stability.pdf\"\n",
    "    fig = g.get_figure()\n",
    "    fig.tight_layout()\n",
    "    fig.savefig(out_file)\n",
    "    plt.close(fig)\n",
    "    return fig\n",
    "\n",
    "\n",
    "def plan_changes_summary(ppq: pd.DataFrame | None) -> Optional[pd.DataFrame]:\n",
    "    if ppq is None:\n",
    "        return None\n",
    "\n",
    "    return (\n",
    "        ppq.query(\"n_plans > 1\")\n",
    "        .groupby(\"geqo\", as_index=False, observed=True)[\"n_plans\"]\n",
    "        .count()\n",
    "        .rename(columns={\"n_plans\": \"changing_queries\"})\n",
    "    )\n",
    "\n",
    "\n",
    "def runtime_changes_summary(ppq: pd.DataFrame | None) -> Optional[pd.DataFrame]:\n",
    "    if ppq is None:\n",
    "        return None\n",
    "\n",
    "    return (\n",
    "        ppq.query(\"n_plans > 1\")\n",
    "        .groupby(\"geqo\", as_index=False)[[\"min_rt\", \"max_rt\"]]\n",
    "        .sum()\n",
    "    )\n"
   ]
  },
  {
   "cell_type": "code",
   "execution_count": null,
   "id": "2d516230",
   "metadata": {
    "tags": [
     "hide"
    ]
   },
   "outputs": [],
   "source": [
    "job = workloads.job()\n",
    "stats = workloads.stats()\n",
    "stack = workloads.stack()"
   ]
  },
  {
   "cell_type": "code",
   "execution_count": null,
   "id": "03b88be1",
   "metadata": {
    "tags": [
     "hide"
    ]
   },
   "outputs": [],
   "source": [
    "df_job = read_df(job)\n",
    "df_stats = read_df(stats)\n",
    "df_stack = read_df(stack)"
   ]
  },
  {
   "cell_type": "code",
   "execution_count": null,
   "id": "f8daa554",
   "metadata": {
    "tags": [
     "hide"
    ]
   },
   "outputs": [],
   "source": [
    "job_ppq = plans_per_query(df_job)\n",
    "stats_ppq = plans_per_query(df_stats)\n",
    "stack_ppq = plans_per_query(df_stack)"
   ]
  },
  {
   "cell_type": "code",
   "execution_count": null,
   "id": "31285635",
   "metadata": {
    "tags": [
     "hide"
    ]
   },
   "outputs": [],
   "source": [
    "job_ppq_plot = make_ppq_plot(job_ppq, workload=job)\n",
    "_ = make_ppq_plot(stats_ppq, workload=stats)\n",
    "_ = make_ppq_plot(stack_ppq, workload=stack)"
   ]
  },
  {
   "cell_type": "markdown",
   "id": "fee85aa9",
   "metadata": {},
   "source": [
    "# Replacement plots\n",
    "\n",
    "**Replacement for Figure 10:** This plot should show that plan changes happen when GEQO is activated as well as when GEQO is\n",
    "turned off.\n",
    "\n",
    "This is an aggregated plot that does not rely on a selection heuristic."
   ]
  },
  {
   "cell_type": "code",
   "execution_count": null,
   "id": "639effc7",
   "metadata": {},
   "outputs": [],
   "source": [
    "job_ppq_plot"
   ]
  },
  {
   "cell_type": "markdown",
   "id": "377ea43d",
   "metadata": {},
   "source": [
    "# Aggregated statistics\n",
    "\n",
    "These numbers roughly correspond to the numbers reported in the paper.\n",
    "\n",
    "First, we compute how many queries are affected by plan changes caused by the sampled statistics (GEQO is off) catalog or\n",
    "caused by the statistics catalog and GEQO (GEQO is on):"
   ]
  },
  {
   "cell_type": "code",
   "execution_count": null,
   "id": "4ad3a2de",
   "metadata": {},
   "outputs": [],
   "source": [
    "plan_changes_summary(job_ppq)"
   ]
  },
  {
   "cell_type": "markdown",
   "id": "d726da7a",
   "metadata": {},
   "source": [
    "Second, we compute how large the runtime difference is for queries that select different execution plans.\n",
    "Again, we compute these numbers for plan changes caused by the sampled statistics (GEQO is off) and caused by the statistics\n",
    "catalog and GEQO (GEQO is on):"
   ]
  },
  {
   "cell_type": "code",
   "execution_count": null,
   "id": "60e2581f",
   "metadata": {},
   "outputs": [],
   "source": [
    "runtime_changes_summary(job_ppq)"
   ]
  }
 ],
 "metadata": {
  "language_info": {
   "name": "python"
  }
 },
 "nbformat": 4,
 "nbformat_minor": 5
}
