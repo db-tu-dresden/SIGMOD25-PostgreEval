{
 "cells": [
  {
   "cell_type": "markdown",
   "id": "fcace5f9",
   "metadata": {},
   "source": [
    "# Experiment 01: Cardinality Distortion\n",
    "\n",
    "Process this notebook like so to generate the PDF output:\n",
    "\n",
    "```bash\n",
    "jupyter execute --inplace 01-Cardinality-Distortion.ipynb\n",
    "jupyter nbconvert --to pdf 01-Cardinality-Distortion.ipynb\n",
    "```"
   ]
  },
  {
   "cell_type": "markdown",
   "id": "ebc35a12",
   "metadata": {
    "vscode": {
     "languageId": "plaintext"
    }
   },
   "source": [
    "## Internals\n",
    "\n",
    "The cells in this section can be ignored in the PDF output. They perform the technical aspects of the data analysis.\n",
    "This mainly involves creating distortion plots (Figure 3 in the original paper) and determining the best replacements for\n",
    "the original plots.\n",
    "\n",
    "Please take a look at the following sections to see the actual outputs."
   ]
  },
  {
   "cell_type": "code",
   "execution_count": null,
   "id": "5988d53d",
   "metadata": {},
   "outputs": [
    {
     "ename": "ImportError",
     "evalue": "cannot import name 'db' from 'postbound.db' (/home/rico/PostBOUND/pb-venv/lib/python3.10/site-packages/postbound/db/__init__.py)",
     "output_type": "error",
     "traceback": [
      "\u001b[0;31m---------------------------------------------------------------------------\u001b[0m",
      "\u001b[0;31mImportError\u001b[0m                               Traceback (most recent call last)",
      "Cell \u001b[0;32mIn[1], line 11\u001b[0m\n\u001b[1;32m      8\u001b[0m \u001b[38;5;28;01mimport\u001b[39;00m \u001b[38;5;21;01mseaborn\u001b[39;00m \u001b[38;5;28;01mas\u001b[39;00m \u001b[38;5;21;01msns\u001b[39;00m\n\u001b[1;32m      9\u001b[0m \u001b[38;5;28;01mfrom\u001b[39;00m \u001b[38;5;21;01mmatplotlib\u001b[39;00m \u001b[38;5;28;01mimport\u001b[39;00m ticker\n\u001b[0;32m---> 11\u001b[0m \u001b[38;5;28;01mfrom\u001b[39;00m \u001b[38;5;21;01mpostbound\u001b[39;00m\u001b[38;5;21;01m.\u001b[39;00m\u001b[38;5;21;01mdb\u001b[39;00m \u001b[38;5;28;01mimport\u001b[39;00m db, postgres\n\u001b[1;32m     12\u001b[0m \u001b[38;5;28;01mfrom\u001b[39;00m \u001b[38;5;21;01mpostbound\u001b[39;00m\u001b[38;5;21;01m.\u001b[39;00m\u001b[38;5;21;01mqal\u001b[39;00m \u001b[38;5;28;01mimport\u001b[39;00m base\n\u001b[1;32m     13\u001b[0m \u001b[38;5;28;01mfrom\u001b[39;00m \u001b[38;5;21;01mpostbound\u001b[39;00m\u001b[38;5;21;01m.\u001b[39;00m\u001b[38;5;21;01mexperiments\u001b[39;00m \u001b[38;5;28;01mimport\u001b[39;00m workloads\n",
      "\u001b[0;31mImportError\u001b[0m: cannot import name 'db' from 'postbound.db' (/home/rico/PostBOUND/pb-venv/lib/python3.10/site-packages/postbound/db/__init__.py)"
     ]
    }
   ],
   "source": [
    "import collections\n",
    "import json\n",
    "import sys\n",
    "from collections.abc import Iterable\n",
    "from pathlib import Path\n",
    "from typing import Optional\n",
    "\n",
    "import matplotlib.pyplot as plt\n",
    "import natsort\n",
    "import numpy as np\n",
    "import pandas as pd\n",
    "import seaborn as sns\n",
    "from matplotlib import ticker\n",
    "\n",
    "from postbound.db import db, postgres\n",
    "from postbound.qal import base\n",
    "from postbound.experiments import workloads\n",
    "from postbound.optimizer import jointree"
   ]
  },
  {
   "cell_type": "code",
   "execution_count": null,
   "id": "1c628b4f",
   "metadata": {},
   "outputs": [],
   "source": [
    "results_base = Path(\"/ari/results/experiment-01-cardinality-distortion/\")\n",
    "output_dir = Path(\"/ari/results/eval/experiment-01-cardinality-estimation/\")\n",
    "workloads.workloads_base_dir = \"/ari/postbound/workloads\"\n",
    "plt.rcParams[\"figure.figsize\"] = (15, 5)\n",
    "plt.rcParams[\"pdf.fonttype\"] = 42\n",
    "plt.rcParams[\"ps.fonttype\"] = 42\n",
    "sns.set_style(\"whitegrid\")\n",
    "sns.set_context(\"talk\")"
   ]
  },
  {
   "cell_type": "code",
   "execution_count": null,
   "id": "077fb811",
   "metadata": {},
   "outputs": [],
   "source": [
    "def label_sort(df: pd.DataFrame, *, col_names: str | Iterable[str] = \"label\") -> pd.DataFrame:\n",
    "    return df.sort_values(by=col_names, key=lambda series: np.argsort(natsort.index_natsorted(series)))\n",
    "\n",
    "\n",
    "def explain_plan(explain_data: str) -> db.QueryExecutionPlan | None:\n",
    "    json_data = json.loads(explain_data)\n",
    "    if not json_data:\n",
    "        return None\n",
    "    pg_plan = postgres.PostgresExplainPlan(json_data)\n",
    "    return pg_plan.as_query_execution_plan()\n",
    "\n",
    "\n",
    "def parse_physical_qep(sample: pd.Series, *, workload: workloads.Workload[str]) -> jointree.PhysicalQueryPlan | None:\n",
    "    if sample[\"query_plan\"] is None:\n",
    "        return None\n",
    "    query = workload[sample[\"label\"]]\n",
    "    return jointree.PhysicalQueryPlan.load_from_query_plan(sample[\"query_plan\"], query=query, operators_only=True)\n",
    "\n",
    "\n",
    "def make_plan_idxs(sample: pd.Series) -> np.ndarray:\n",
    "    sample = pd.Series(np.where(np.isnan(sample), sys.float_info.max, sample))\n",
    "    unique_plans = sample.unique()\n",
    "    plan_lookup = dict(zip(unique_plans, range(1, len(unique_plans) + 1)))\n",
    "\n",
    "    lookup_fn = np.vectorize(lambda plan_hash: plan_lookup[plan_hash])\n",
    "    return lookup_fn(sample)\n",
    "\n",
    "\n",
    "def load_results(file: str, *, workload: workloads.Workload[str]) -> Optional[pd.DataFrame]:\n",
    "    data_file = results_base / file\n",
    "    if not data_file.exists():\n",
    "        return None\n",
    "    distortion_df: pd.DataFrame = (pd.read_csv(data_file, converters={\"query_plan\": explain_plan})\n",
    "                                   .query(\"distortion_factor <= 4\")\n",
    "                                   .pipe(label_sort))\n",
    "\n",
    "    distortion_df[\"label\"] = pd.Categorical(distortion_df[\"label\"], categories=workload.labels(), ordered=True)\n",
    "    distortion_df.sort_values(by=[\"server\", \"label\", \"distortion_factor\"], inplace=True)  # sorting is important to determine the correct plan indexes\n",
    "    distortion_df[\"plan_hash\"] = distortion_df[\"query_plan\"].apply(hash)\n",
    "    distortion_df[\"plan_idx\"] = distortion_df.groupby([\"server\", \"label\"], as_index=False, observed=True)[\"plan_hash\"].transform(make_plan_idxs)\n",
    "    distortion_df[\"timeout\"] = np.isinf(distortion_df[\"runtime\"])\n",
    "\n",
    "    return distortion_df\n",
    "\n",
    "\n",
    "def make_distortion_plot(df: pd.DataFrame, *, label: str, workload: str, suffix: str) -> None:\n",
    "    sns.set_context(\"talk\")\n",
    "\n",
    "    current_sample = df.query(\"label == @label\").copy().sort_values(by=\"distortion_factor\")\n",
    "\n",
    "    fig, (ax_distortion, ax_plans) = plt.subplots(nrows=2, sharex=True, figsize=(7, 6))\n",
    "\n",
    "    g_distortion = sns.lineplot(current_sample, x=\"distortion_factor\", y=\"runtime\",\n",
    "                                ax=ax_distortion)\n",
    "    g_distortion.set(title=f\"{workload} query {label}\", ylabel=\"Runtime [s]\")\n",
    "    g_distortion.set_ylim(bottom=-10 if current_sample.runtime.min() < 1.0 and current_sample.runtime.max() > 5 else 0,\n",
    "                          top=1.1 * current_sample.runtime.max())\n",
    "    g_distortion.axvline(1.0, color=\"grey\", linestyle=\"dashed\")\n",
    "\n",
    "\n",
    "    g_plans = sns.scatterplot(current_sample, x=\"distortion_factor\", y=\"plan_idx\", ax=ax_plans)\n",
    "    g_plans.set(xlabel=\"Distortion factor\", ylabel=\"Plan\")\n",
    "    g_plans.yaxis.set_major_locator(ticker.MaxNLocator(integer=True, nbins=\"auto\", min_n_ticks=1))\n",
    "    g_plans.axvline(1.0, color=\"grey\", linestyle=\"dashed\")\n",
    "\n",
    "\n",
    "    fig.tight_layout()\n",
    "    fig.savefig(f\"plots/cardinality-distortion-{suffix}.pdf\")\n",
    "    return fig\n",
    "\n",
    "\n",
    "def count_jump_backs(plan_idxs) -> int:\n",
    "    current_max = 0\n",
    "    jumps = 0\n",
    "    for i in plan_idxs:\n",
    "        if i < current_max:\n",
    "            jumps += 1\n",
    "        if i > current_max:\n",
    "            current_max = i\n",
    "    return jumps"
   ]
  },
  {
   "cell_type": "code",
   "execution_count": null,
   "id": "71dcc968",
   "metadata": {},
   "outputs": [],
   "source": [
    "job = workloads.job()\n",
    "stats = workloads.stats()\n",
    "\n",
    "job_df = load_results(\"card-distortion-job.csv\", workload=job)\n",
    "stats_df = load_results(\"card-distortion-stats.csv\", workload=stats)"
   ]
  },
  {
   "cell_type": "markdown",
   "id": "8bbfba6a",
   "metadata": {},
   "source": [
    "## Suggested replacement plots\n",
    "\n",
    "These are the plots that might be the best replacements for the original plots based on the current hardware. See the README\n",
    "for the motivation behind this strategy.\n",
    "\n",
    "Please note that these plots are determined automatically using a coarse heuristic. In contrast, the plots in the original\n",
    "paper have been selected semi-automatically using the same statistics but with human oversight. If one of the plots shows a\n",
    "significant difference, please take a look at the remaining plots for the other queries. Perhaps the heuristic selected a poor\n",
    "replacement plot."
   ]
  },
  {
   "cell_type": "markdown",
   "id": "04031b24",
   "metadata": {},
   "source": [
    "## Aggregated statistics\n",
    "\n",
    "The numbers in this section correspond to the bullet list in Section 4.1 of the original paper."
   ]
  },
  {
   "cell_type": "markdown",
   "id": "05f20bf0",
   "metadata": {},
   "source": []
  }
 ],
 "metadata": {
  "kernelspec": {
   "display_name": "pb-venv",
   "language": "python",
   "name": "python3"
  },
  "language_info": {
   "codemirror_mode": {
    "name": "ipython",
    "version": 3
   },
   "file_extension": ".py",
   "mimetype": "text/x-python",
   "name": "python",
   "nbconvert_exporter": "python",
   "pygments_lexer": "ipython3",
   "version": "3.10.12"
  }
 },
 "nbformat": 4,
 "nbformat_minor": 5
}
