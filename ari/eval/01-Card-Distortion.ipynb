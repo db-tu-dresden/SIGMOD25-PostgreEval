{
 "cells": [
  {
   "cell_type": "markdown",
   "id": "fcace5f9",
   "metadata": {},
   "source": [
    "# Experiment 01: Cardinality Distortion\n",
    "\n",
    "Process this notebook like so to generate the PDF output:\n",
    "\n",
    "```bash\n",
    "jupyter execute --inplace 01-Cardinality-Distortion.ipynb\n",
    "jupyter nbconvert --to pdf --TagRemovePreprocessor.remove_cell_tags='{\"hide\"}' 01-Cardinality-Distortion.ipynb\n",
    "```"
   ]
  },
  {
   "cell_type": "markdown",
   "id": "ebc35a12",
   "metadata": {
    "vscode": {
     "languageId": "plaintext"
    }
   },
   "source": [
    "# Internals\n",
    "\n",
    "The cells in this section can be ignored in the PDF output. They perform the technical aspects of the data analysis.\n",
    "This mainly involves creating distortion plots (Figure 3 in the original paper) and determining the best replacements for\n",
    "the original plots.\n",
    "\n",
    "Please take a look at the following sections to see the actual outputs."
   ]
  },
  {
   "cell_type": "code",
   "execution_count": null,
   "id": "5988d53d",
   "metadata": {
    "tags": [
     "hide"
    ]
   },
   "outputs": [],
   "source": [
    "import json\n",
    "import sys\n",
    "from collections.abc import Iterable\n",
    "from pathlib import Path\n",
    "from typing import Optional\n",
    "\n",
    "import matplotlib.pyplot as plt\n",
    "import natsort\n",
    "import numpy as np\n",
    "import pandas as pd\n",
    "import seaborn as sns\n",
    "from matplotlib import figure, ticker\n",
    "\n",
    "from postbound.db import db, postgres\n",
    "from postbound.experiments import workloads\n",
    "from postbound.optimizer import jointree"
   ]
  },
  {
   "cell_type": "code",
   "execution_count": null,
   "id": "1c628b4f",
   "metadata": {
    "tags": [
     "hide"
    ]
   },
   "outputs": [],
   "source": [
    "results_base = Path(\"/ari/results/experiment-01-cardinality-distortion/\")\n",
    "output_dir = Path(\"/ari/results/eval/experiment-01-cardinality-estimation/\")\n",
    "output_dir.mkdir(parents=True, exist_ok=True)\n",
    "workloads.workloads_base_dir = \"/ari/postbound/workloads\"\n",
    "plt.rcParams[\"figure.figsize\"] = (15, 5)\n",
    "plt.rcParams[\"pdf.fonttype\"] = 42\n",
    "plt.rcParams[\"ps.fonttype\"] = 42\n",
    "sns.set_style(\"whitegrid\")\n",
    "sns.set_context(\"talk\")"
   ]
  },
  {
   "cell_type": "code",
   "execution_count": null,
   "id": "077fb811",
   "metadata": {
    "tags": [
     "hide"
    ]
   },
   "outputs": [],
   "source": [
    "def label_sort(\n",
    "    df: pd.DataFrame, *, col_names: str | Iterable[str] = \"label\"\n",
    ") -> pd.DataFrame:\n",
    "    return df.sort_values(\n",
    "        by=col_names, key=lambda series: np.argsort(natsort.index_natsorted(series))\n",
    "    )\n",
    "\n",
    "\n",
    "def explain_plan(explain_data: str) -> db.QueryExecutionPlan | None:\n",
    "    json_data = json.loads(explain_data)\n",
    "    if not json_data:\n",
    "        return None\n",
    "    pg_plan = postgres.PostgresExplainPlan(json_data)\n",
    "    return pg_plan.as_query_execution_plan()\n",
    "\n",
    "\n",
    "def parse_physical_qep(\n",
    "    sample: pd.Series, *, workload: workloads.Workload[str]\n",
    ") -> jointree.PhysicalQueryPlan | None:\n",
    "    if sample[\"query_plan\"] is None:\n",
    "        return None\n",
    "    query = workload[sample[\"label\"]]\n",
    "    return jointree.PhysicalQueryPlan.load_from_query_plan(\n",
    "        sample[\"query_plan\"], query=query, operators_only=True\n",
    "    )\n",
    "\n",
    "\n",
    "def make_plan_idxs(sample: pd.Series) -> np.ndarray:\n",
    "    sample = pd.Series(np.where(np.isnan(sample), sys.float_info.max, sample))\n",
    "    unique_plans = sample.unique()\n",
    "    plan_lookup = dict(zip(unique_plans, range(1, len(unique_plans) + 1)))\n",
    "\n",
    "    lookup_fn = np.vectorize(lambda plan_hash: plan_lookup[plan_hash])\n",
    "    return lookup_fn(sample)\n",
    "\n",
    "\n",
    "def load_results(\n",
    "    file: str, *, workload: workloads.Workload[str]\n",
    ") -> Optional[pd.DataFrame]:\n",
    "    data_file = results_base / file\n",
    "    if not data_file.exists():\n",
    "        return None\n",
    "    distortion_df: pd.DataFrame = (\n",
    "        pd.read_csv(data_file, converters={\"query_plan\": explain_plan})\n",
    "        .query(\"distortion_factor <= 4\")\n",
    "        .pipe(label_sort)\n",
    "    )\n",
    "\n",
    "    distortion_df[\"label\"] = pd.Categorical(\n",
    "        distortion_df[\"label\"], categories=workload.labels(), ordered=True\n",
    "    )\n",
    "    distortion_df.sort_values(\n",
    "        by=[\"label\", \"distortion_factor\"], inplace=True\n",
    "    )  # sorting is important to determine the correct plan indexes\n",
    "    distortion_df[\"plan_hash\"] = distortion_df[\"query_plan\"].apply(hash)\n",
    "    distortion_df[\"plan_idx\"] = distortion_df.groupby(\n",
    "        \"label\", as_index=False, observed=True\n",
    "    )[\"plan_hash\"].transform(make_plan_idxs)\n",
    "    distortion_df[\"timeout\"] = np.isinf(distortion_df[\"runtime\"])\n",
    "\n",
    "    return distortion_df\n",
    "\n",
    "\n",
    "def make_distortion_plot(\n",
    "    df: pd.DataFrame | None, *, label: str, workload: str, suffix: str\n",
    ") -> Optional[figure.Figure]:\n",
    "    sns.set_context(\"talk\")\n",
    "\n",
    "    current_sample = (\n",
    "        df.query(\"label == @label\").copy().sort_values(by=\"distortion_factor\")\n",
    "    )\n",
    "\n",
    "    fig, (ax_distortion, ax_plans) = plt.subplots(nrows=2, sharex=True, figsize=(7, 6))\n",
    "\n",
    "    g_distortion = sns.lineplot(\n",
    "        current_sample, x=\"distortion_factor\", y=\"runtime\", ax=ax_distortion\n",
    "    )\n",
    "    g_distortion.set(title=f\"{workload} query {label}\", ylabel=\"Runtime [s]\")\n",
    "    g_distortion.set_ylim(\n",
    "        bottom=-10\n",
    "        if current_sample.runtime.min() < 1.0 and current_sample.runtime.max() > 5\n",
    "        else 0,\n",
    "        top=1.1 * current_sample.runtime.max(),\n",
    "    )\n",
    "    g_distortion.axvline(1.0, color=\"grey\", linestyle=\"dashed\")\n",
    "\n",
    "    g_plans = sns.scatterplot(\n",
    "        current_sample, x=\"distortion_factor\", y=\"plan_idx\", ax=ax_plans\n",
    "    )\n",
    "    g_plans.set(xlabel=\"Distortion factor\", ylabel=\"Plan\")\n",
    "    g_plans.yaxis.set_major_locator(\n",
    "        ticker.MaxNLocator(integer=True, nbins=\"auto\", min_n_ticks=1)\n",
    "    )\n",
    "    g_plans.axvline(1.0, color=\"grey\", linestyle=\"dashed\")\n",
    "\n",
    "    out_file = output_dir / f\"{workload.lower()}-cardinality-distortion-{suffix}.pdf\"\n",
    "    fig.tight_layout()\n",
    "    fig.savefig(out_file)\n",
    "    plt.close(fig)\n",
    "    return fig\n",
    "\n",
    "\n",
    "def count_jump_backs(plan_idxs: pd.Series) -> int:\n",
    "    seen_plans: set[int] = set()\n",
    "    prev_plan = 0\n",
    "    jumps = 0\n",
    "    for i in plan_idxs:\n",
    "        if i != prev_plan and i in seen_plans:\n",
    "            jumps += 1\n",
    "        prev_plan = i\n",
    "        seen_plans.add(i)\n",
    "    return jumps"
   ]
  },
  {
   "cell_type": "code",
   "execution_count": null,
   "id": "fbbdcaf0",
   "metadata": {
    "tags": [
     "hide"
    ]
   },
   "outputs": [],
   "source": [
    "def generate_all_plots(\n",
    "    df: pd.DataFrame | None, *, benchmark: workloads.Workload\n",
    ") -> dict[str, figure.Figure]:\n",
    "    if df is None:\n",
    "        return {}\n",
    "    return {\n",
    "        label: make_distortion_plot(\n",
    "            df, label=label, workload=benchmark.name, suffix=label\n",
    "        )\n",
    "        for label in benchmark.labels()\n",
    "    }\n",
    "\n",
    "\n",
    "def make_plan_eval_df(df: pd.DataFrame | None) -> Optional[pd.DataFrame]:\n",
    "    if df is None:\n",
    "        return None\n",
    "\n",
    "    plan_selection_df: pd.DataFrame = (\n",
    "        df.groupby(\"label\", as_index=False, observed=True)\n",
    "        .agg(\n",
    "            n_plans=pd.NamedAgg(\n",
    "                column=\"plan_idx\", aggfunc=lambda plans: len(set(plans))\n",
    "            ),\n",
    "            n_jump_backs=pd.NamedAgg(column=\"plan_idx\", aggfunc=count_jump_backs),\n",
    "        )\n",
    "        .pipe(label_sort)\n",
    "    )\n",
    "    plan_selection_df[\"n_steps\"] = (\n",
    "        plan_selection_df[\"n_plans\"] - plan_selection_df[\"n_jump_backs\"] - 1\n",
    "    )\n",
    "    return plan_selection_df\n",
    "\n",
    "\n",
    "def select_evolution_replacement(\n",
    "    df: pd.DataFrame | None, *, plots: dict\n",
    ") -> Optional[figure.Figure]:\n",
    "    if df is None:\n",
    "        return None\n",
    "\n",
    "    evolution_plans = df.query(\"n_jump_backs == 0\")\n",
    "    most_evolutions = evolution_plans[\"n_steps\"].idxmax()\n",
    "    selected = evolution_plans.loc[most_evolutions].label\n",
    "    return plots[selected]\n",
    "\n",
    "\n",
    "def select_jitter_replacement(\n",
    "    df: pd.DataFrame | None, *, plots: dict\n",
    ") -> Optional[figure.Figure]:\n",
    "    if df is None:\n",
    "        return None\n",
    "\n",
    "    selected = df.loc[df[\"n_jump_backs\"].argmax()].label\n",
    "    return plots[selected]\n",
    "\n",
    "\n",
    "def make_summary(df: pd.DataFrame | None) -> Optional[pd.Series]:\n",
    "    if df is None:\n",
    "        return None\n",
    "\n",
    "    same_plan = df.query(\"n_plans == 1\")[\"label\"].count()\n",
    "    evolution = df.query(\"n_plans > 1 & n_jump_backs == 0\")[\"label\"].count()\n",
    "    jumps = df[\"label\"].count() - same_plan - evolution\n",
    "    return pd.Series(\n",
    "        [same_plan, evolution, jumps], index=[\"Same plan\", \"Evolution\", \"Jumps\"]\n",
    "    )"
   ]
  },
  {
   "cell_type": "code",
   "execution_count": null,
   "id": "71dcc968",
   "metadata": {
    "tags": [
     "hide"
    ]
   },
   "outputs": [],
   "source": [
    "job = workloads.job()\n",
    "stats = workloads.stats()"
   ]
  },
  {
   "cell_type": "code",
   "execution_count": null,
   "id": "7241c046",
   "metadata": {
    "tags": [
     "hide"
    ]
   },
   "outputs": [],
   "source": [
    "job_df = load_results(\"card-distortion-job.csv\", workload=job)\n",
    "stats_df = load_results(\"card-distortion-stats.csv\", workload=stats)"
   ]
  },
  {
   "cell_type": "code",
   "execution_count": null,
   "id": "565ce806",
   "metadata": {
    "tags": [
     "hide"
    ]
   },
   "outputs": [],
   "source": [
    "job_plots = generate_all_plots(job_df, benchmark=job)\n",
    "stats_plots = generate_all_plots(stats_df, benchmark=stats)"
   ]
  },
  {
   "cell_type": "code",
   "execution_count": null,
   "id": "6f5a4b3b",
   "metadata": {
    "tags": [
     "hide"
    ]
   },
   "outputs": [],
   "source": [
    "job_plan_eval = make_plan_eval_df(job_df)"
   ]
  },
  {
   "cell_type": "markdown",
   "id": "8bbfba6a",
   "metadata": {},
   "source": [
    "# Suggested replacement plots\n",
    "\n",
    "These are the plots that might be the best replacements for the original plots based on the current hardware. See the README\n",
    "for the motivation behind this strategy.\n",
    "\n",
    "Please note that these plots are determined automatically using a coarse heuristic. In contrast, the plots in the original\n",
    "paper have been selected semi-automatically using the same statistics but with human oversight. If one of the plots shows a\n",
    "significant difference, please take a look at the remaining plots for the other queries. Perhaps the heuristic selected a poor\n",
    "replacement plot."
   ]
  },
  {
   "cell_type": "code",
   "execution_count": null,
   "id": "e2cd3239",
   "metadata": {},
   "outputs": [],
   "source": [
    "select_evolution_replacement(job_plan_eval, plots=job_plots)"
   ]
  },
  {
   "cell_type": "code",
   "execution_count": null,
   "id": "c26c6660",
   "metadata": {},
   "outputs": [],
   "source": [
    "select_jitter_replacement(job_plan_eval, plots=job_plots)"
   ]
  },
  {
   "cell_type": "markdown",
   "id": "04031b24",
   "metadata": {},
   "source": [
    "# Aggregated statistics\n",
    "\n",
    "The numbers in this section correspond to the bullet list in Section 4.1 of the original paper."
   ]
  },
  {
   "cell_type": "code",
   "execution_count": null,
   "id": "fc20fc8a",
   "metadata": {},
   "outputs": [],
   "source": [
    "make_summary(job_plan_eval)"
   ]
  }
 ],
 "metadata": {
  "kernelspec": {
   "display_name": "pb-venv",
   "language": "python",
   "name": "python3"
  },
  "language_info": {
   "codemirror_mode": {
    "name": "ipython",
    "version": 3
   },
   "file_extension": ".py",
   "mimetype": "text/x-python",
   "name": "python",
   "nbconvert_exporter": "python",
   "pygments_lexer": "ipython3",
   "version": "3.10.12"
  }
 },
 "nbformat": 4,
 "nbformat_minor": 5
}
